# **One Tutorial to Understand All (M5-Forecasting)**

[![Open In Colab](https://colab.research.google.com/assets/colab-badge.svg)](https://colab.research.google.com/github/phong22mse23055/mse_python/blob/main/exercise.01.ipynb)

### Khởi tạo và import các thư viện cần thiết
```python
import numpy as np # linear algebra
import pandas as pd # data processing, CSV file I/O (e.g. pd.read_csv)
import matplotlib.pyplot as plt

import time
import math
import datetime
```
